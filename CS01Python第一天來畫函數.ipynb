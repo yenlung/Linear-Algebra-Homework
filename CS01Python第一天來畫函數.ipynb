{
 "cells": [
  {
   "cell_type": "markdown",
   "metadata": {},
   "source": [
    "# Python 第一天"
   ]
  },
  {
   "cell_type": "markdown",
   "metadata": {},
   "source": [
    "## 1. 按 shift-enter\n",
    "\n",
    "記得要執行什麼就按 shift-enter。"
   ]
  },
  {
   "cell_type": "code",
   "execution_count": 1,
   "metadata": {},
   "outputs": [
    {
     "data": {
      "text/plain": [
       "2"
      ]
     },
     "execution_count": 1,
     "metadata": {},
     "output_type": "execute_result"
    }
   ],
   "source": [
    "1+1"
   ]
  },
  {
   "cell_type": "markdown",
   "metadata": {},
   "source": [
    "## 2. 當然要用 Markdown\n",
    "\n",
    "我們可以用標準加註解法, 但看來很遜..."
   ]
  },
  {
   "cell_type": "code",
   "execution_count": 2,
   "metadata": {
    "collapsed": true
   },
   "outputs": [],
   "source": [
    "# Python 不會理我"
   ]
  },
  {
   "cell_type": "markdown",
   "metadata": {},
   "source": [
    "Jupyter Notebook 是支援 Markdown 的。你可以 Google 一下 Markdown 的語法。要進入 Markdown 狀態, 最炫的是「連續技」:\n",
    "\n",
    "    CTRL-M, M\n",
    "\n",
    "也就是按了 `CTRL`-`M`, 再按 `M`。\n",
    "\n",
    "再來 Jupyter Notebook 的 Markdown 有支援 LaTeX 語法打數學符號!"
   ]
  },
  {
   "cell_type": "markdown",
   "metadata": {},
   "source": [
    "# 我的程式大標題\n",
    "\n",
    "亂說一通, 應該要會\n",
    "\n",
    "* Python\n",
    "* Jupyter Notebook\n",
    "* Numpy\n",
    "* SymPy\n",
    "\n",
    "有個函數 $f(x) = x^3-2x+5$\n",
    "\n",
    "$$\\int_a^b f(x) \\, dx$$"
   ]
  },
  {
   "cell_type": "markdown",
   "metadata": {},
   "source": [
    "## 3. 數值計算標準起手式\n",
    "\n",
    "反正以後一開 Jupyter Notebook 就打入這些..."
   ]
  },
  {
   "cell_type": "code",
   "execution_count": 3,
   "metadata": {
    "collapsed": true
   },
   "outputs": [],
   "source": [
    "%matplotlib inline\n",
    "\n",
    "import numpy as np\n",
    "import matplotlib.pyplot as plt"
   ]
  },
  {
   "cell_type": "markdown",
   "metadata": {},
   "source": [
    "## 4. 畫圖的基礎\n",
    "\n",
    "Python 畫圖標準法是\n",
    "\n",
    "    plt.plot(X, Y)\n",
    "\n",
    "其中\n",
    "\n",
    "* `X` 是點的 x-座標\n",
    "* `Y` 是點的 y-座標\n",
    "\n",
    "可以省略 x-座標, 此時 Python 會自動補上 0, 1, 2, ..."
   ]
  },
  {
   "cell_type": "code",
   "execution_count": 4,
   "metadata": {},
   "outputs": [
    {
     "data": {
      "text/plain": [
       "[<matplotlib.lines.Line2D at 0x114b6d710>]"
      ]
     },
     "execution_count": 4,
     "metadata": {},
     "output_type": "execute_result"
    },
    {
     "data": {
      "image/png": "[encoded data removed]",
      "text/plain": [
       "<matplotlib.figure.Figure at 0x111689c18>"
      ]
     },
     "metadata": {},
     "output_type": "display_data"
    }
   ],
   "source": [
    "plt.plot([3,-5,6,8,12,0,8,-9])"
   ]
  },
  {
   "cell_type": "markdown",
   "metadata": {},
   "source": [
    "畫出 (0,0), (69,69), (75,87), (90,94)"
   ]
  },
  {
   "cell_type": "code",
   "execution_count": 6,
   "metadata": {},
   "outputs": [
    {
     "data": {
      "text/plain": [
       "[<matplotlib.lines.Line2D at 0x114d1e400>]"
      ]
     },
     "execution_count": 6,
     "metadata": {},
     "output_type": "execute_result"
    },
    {
     "data": {
      "image/png": "[encoded data removed]",
      "text/plain": [
       "<matplotlib.figure.Figure at 0x114bdf278>"
      ]
     },
     "metadata": {},
     "output_type": "display_data"
    }
   ],
   "source": [
    "plt.plot([0, 69, 75, 90], [0, 69, 87, 94])"
   ]
  },
  {
   "cell_type": "markdown",
   "metadata": {},
   "source": [
    "## 5. 畫個函數\n",
    "\n",
    "描點 x 選個 200 點。"
   ]
  },
  {
   "cell_type": "code",
   "execution_count": 7,
   "metadata": {
    "collapsed": true
   },
   "outputs": [],
   "source": [
    "x = np.linspace(0, 8*np.pi, 200)"
   ]
  },
  {
   "cell_type": "code",
   "execution_count": 9,
   "metadata": {},
   "outputs": [
    {
     "data": {
      "text/plain": [
       "array([  0.        ,   0.12629518,   0.25259036,   0.37888555,\n",
       "         0.50518073,   0.63147591,   0.75777109,   0.88406627,\n",
       "         1.01036146,   1.13665664,   1.26295182,   1.389247  ,\n",
       "         1.51554218,   1.64183737,   1.76813255,   1.89442773,\n",
       "         2.02072291,   2.14701809,   2.27331328,   2.39960846,\n",
       "         2.52590364,   2.65219882,   2.77849401,   2.90478919,\n",
       "         3.03108437,   3.15737955,   3.28367473,   3.40996992,\n",
       "         3.5362651 ,   3.66256028,   3.78885546,   3.91515064,\n",
       "         4.04144583,   4.16774101,   4.29403619,   4.42033137,\n",
       "         4.54662655,   4.67292174,   4.79921692,   4.9255121 ,\n",
       "         5.05180728,   5.17810246,   5.30439765,   5.43069283,\n",
       "         5.55698801,   5.68328319,   5.80957837,   5.93587356,\n",
       "         6.06216874,   6.18846392,   6.3147591 ,   6.44105428,\n",
       "         6.56734947,   6.69364465,   6.81993983,   6.94623501,\n",
       "         7.0725302 ,   7.19882538,   7.32512056,   7.45141574,\n",
       "         7.57771092,   7.70400611,   7.83030129,   7.95659647,\n",
       "         8.08289165,   8.20918683,   8.33548202,   8.4617772 ,\n",
       "         8.58807238,   8.71436756,   8.84066274,   8.96695793,\n",
       "         9.09325311,   9.21954829,   9.34584347,   9.47213865,\n",
       "         9.59843384,   9.72472902,   9.8510242 ,   9.97731938,\n",
       "        10.10361456,  10.22990975,  10.35620493,  10.48250011,\n",
       "        10.60879529,  10.73509047,  10.86138566,  10.98768084,\n",
       "        11.11397602,  11.2402712 ,  11.36656638,  11.49286157,\n",
       "        11.61915675,  11.74545193,  11.87174711,  11.9980423 ,\n",
       "        12.12433748,  12.25063266,  12.37692784,  12.50322302,\n",
       "        12.62951821,  12.75581339,  12.88210857,  13.00840375,\n",
       "        13.13469893,  13.26099412,  13.3872893 ,  13.51358448,\n",
       "        13.63987966,  13.76617484,  13.89247003,  14.01876521,\n",
       "        14.14506039,  14.27135557,  14.39765075,  14.52394594,\n",
       "        14.65024112,  14.7765363 ,  14.90283148,  15.02912666,\n",
       "        15.15542185,  15.28171703,  15.40801221,  15.53430739,\n",
       "        15.66060257,  15.78689776,  15.91319294,  16.03948812,\n",
       "        16.1657833 ,  16.29207848,  16.41837367,  16.54466885,\n",
       "        16.67096403,  16.79725921,  16.9235544 ,  17.04984958,\n",
       "        17.17614476,  17.30243994,  17.42873512,  17.55503031,\n",
       "        17.68132549,  17.80762067,  17.93391585,  18.06021103,\n",
       "        18.18650622,  18.3128014 ,  18.43909658,  18.56539176,\n",
       "        18.69168694,  18.81798213,  18.94427731,  19.07057249,\n",
       "        19.19686767,  19.32316285,  19.44945804,  19.57575322,\n",
       "        19.7020484 ,  19.82834358,  19.95463876,  20.08093395,\n",
       "        20.20722913,  20.33352431,  20.45981949,  20.58611467,\n",
       "        20.71240986,  20.83870504,  20.96500022,  21.0912954 ,\n",
       "        21.21759059,  21.34388577,  21.47018095,  21.59647613,\n",
       "        21.72277131,  21.8490665 ,  21.97536168,  22.10165686,\n",
       "        22.22795204,  22.35424722,  22.48054241,  22.60683759,\n",
       "        22.73313277,  22.85942795,  22.98572313,  23.11201832,\n",
       "        23.2383135 ,  23.36460868,  23.49090386,  23.61719904,\n",
       "        23.74349423,  23.86978941,  23.99608459,  24.12237977,\n",
       "        24.24867495,  24.37497014,  24.50126532,  24.6275605 ,\n",
       "        24.75385568,  24.88015086,  25.00644605,  25.13274123])"
      ]
     },
     "execution_count": 9,
     "metadata": {},
     "output_type": "execute_result"
    }
   ],
   "source": [
    "x"
   ]
  },
  {
   "cell_type": "markdown",
   "metadata": {},
   "source": [
    "我們來算 $\\cos$, 注意 200 點可以一次算完!"
   ]
  },
  {
   "cell_type": "code",
   "execution_count": 10,
   "metadata": {},
   "outputs": [],
   "source": [
    "y = np.cos(x)"
   ]
  },
  {
   "cell_type": "code",
   "execution_count": 12,
   "metadata": {},
   "outputs": [
    {
     "data": {
      "text/plain": [
       "[<matplotlib.lines.Line2D at 0x114e9a550>]"
      ]
     },
     "execution_count": 12,
     "metadata": {},
     "output_type": "execute_result"
    },
    {
     "data": {
      "image/png": "[encoded data removed]",
      "text/plain": [
       "<matplotlib.figure.Figure at 0x114d5a860>"
      ]
     },
     "metadata": {},
     "output_type": "display_data"
    }
   ],
   "source": [
    "plt.plot(x,y)"
   ]
  },
  {
   "cell_type": "markdown",
   "metadata": {},
   "source": [
    "## 6. 線性方程式\n",
    "\n",
    "我們來畫\n",
    "\n",
    "$$x + 2y = 5$$\n",
    "\n",
    "我們要解出\n",
    "\n",
    "$$y = \\dfrac{5-x}{2}$$\n",
    "\n",
    "這樣才好畫。"
   ]
  },
  {
   "cell_type": "code",
   "execution_count": 14,
   "metadata": {
    "collapsed": true
   },
   "outputs": [],
   "source": [
    "x = np.linspace(0,10,100)\n",
    "y = (5-x)/2"
   ]
  },
  {
   "cell_type": "code",
   "execution_count": 16,
   "metadata": {},
   "outputs": [
    {
     "data": {
      "text/plain": [
       "[<matplotlib.lines.Line2D at 0x115022860>]"
      ]
     },
     "execution_count": 16,
     "metadata": {},
     "output_type": "execute_result"
    },
    {
     "data": {
      "image/png": "[encoded data removed]",
      "text/plain": [
       "<matplotlib.figure.Figure at 0x114f76828>"
      ]
     },
     "metadata": {},
     "output_type": "display_data"
    }
   ],
   "source": [
    "plt.plot(x,y)"
   ]
  },
  {
   "cell_type": "markdown",
   "metadata": {},
   "source": [
    "我們來畫一個線性系統:\n",
    "    \n",
    "$$\\begin{cases}\n",
    "x + 2y = 5 \\\\\n",
    "2x + y = 3\n",
    "\\end{cases}$$"
   ]
  },
  {
   "cell_type": "code",
   "execution_count": 17,
   "metadata": {
    "collapsed": true
   },
   "outputs": [],
   "source": [
    "x = np.linspace(0,10,100)\n",
    "y1 = (5-x)/2\n",
    "y2 = 3-2*x"
   ]
  },
  {
   "cell_type": "code",
   "execution_count": 18,
   "metadata": {},
   "outputs": [
    {
     "data": {
      "text/plain": [
       "[<matplotlib.lines.Line2D at 0x114ec7080>]"
      ]
     },
     "execution_count": 18,
     "metadata": {},
     "output_type": "execute_result"
    },
    {
     "data": {
      "image/png": "[encoded data removed]",
      "text/plain": [
       "<matplotlib.figure.Figure at 0x114ec7ef0>"
      ]
     },
     "metadata": {},
     "output_type": "display_data"
    }
   ],
   "source": [
    "plt.plot(x,y1)\n",
    "plt.plot(x,y2)"
   ]
  }
 ],
 "metadata": {
  "kernelspec": {
   "display_name": "Python [conda env:tensorflow]",
   "language": "python",
   "name": "conda-env-tensorflow-py"
  },
  "language_info": {
   "codemirror_mode": {
    "name": "ipython",
    "version": 3
   },
   "file_extension": ".py",
   "mimetype": "text/x-python",
   "name": "python",
   "nbconvert_exporter": "python",
   "pygments_lexer": "ipython3",
   "version": "3.6.4"
  }
 },
 "nbformat": 4,
 "nbformat_minor": 2
}
