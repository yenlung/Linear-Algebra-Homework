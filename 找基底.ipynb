{
 "cells": [
  {
   "cell_type": "markdown",
   "metadata": {},
   "source": [
    "# 找基底\n",
    "\n",
    "這裡我們想從線性獨立的子集, 擴增為某個向量空間的基底。\n",
    "\n",
    "(課本 3.4)"
   ]
  },
  {
   "cell_type": "markdown",
   "metadata": {},
   "source": [
    "## 事件\n",
    "\n",
    "有個向量空間 $V$ 的一個基底 $\\beta$ 為\n",
    "\n",
    "$$\\beta = \\{(-7,1,0,0,0), (-5,0,1,0,0), (4,0,0,1,0), (-2,0,0,0,1)\\}$$\n",
    "\n",
    "我們現在有個集合\n",
    "\n",
    "$$S = \\{(-2,0,0,-1,-1), (1,1,-2,-1,-1), (-5,1,0,1,1)\\}$$\n",
    "\n",
    "很容易驗證 $S$ 是 $V$ 線性獨立的子集合。現在我們想擴充 $S$ 成為 $V$ 的另一個基底。"
   ]
  },
  {
   "cell_type": "code",
   "execution_count": 1,
   "metadata": {},
   "outputs": [],
   "source": [
    "%matplotlib inline\n",
    "\n",
    "import numpy as np\n",
    "import matplotlib.pyplot as plt"
   ]
  },
  {
   "cell_type": "code",
   "execution_count": 6,
   "metadata": {},
   "outputs": [],
   "source": [
    "import sympy as sp"
   ]
  },
  {
   "cell_type": "code",
   "execution_count": 7,
   "metadata": {},
   "outputs": [],
   "source": [
    "sp.init_printing()"
   ]
  },
  {
   "cell_type": "markdown",
   "metadata": {},
   "source": [
    "## 解決篇"
   ]
  },
  {
   "cell_type": "markdown",
   "metadata": {},
   "source": [
    "### 1. 設一個矩陣\n",
    "\n",
    "要包括我們的 $S$, 並且確定可以生成 $V$ 的向量。"
   ]
  },
  {
   "cell_type": "code",
   "execution_count": 20,
   "metadata": {},
   "outputs": [],
   "source": [
    "A = sp.Matrix([[-2,0,0,-1,-1], [1,1,-2,-1,-1],\n",
    "              [-5,1,0,1,1], [-7,1,0,0,0], \n",
    "               [-5,0,1,0,0], [4,0,0,1,0], \n",
    "               [-2,0,0,0,1]])"
   ]
  },
  {
   "cell_type": "markdown",
   "metadata": {},
   "source": [
    "### 2. 轉置\n",
    "\n",
    "因為我們要變成行向量"
   ]
  },
  {
   "cell_type": "code",
   "execution_count": 21,
   "metadata": {},
   "outputs": [],
   "source": [
    "B = A.T"
   ]
  },
  {
   "cell_type": "code",
   "execution_count": 22,
   "metadata": {},
   "outputs": [
    {
     "data": {
      "image/png": "[encoded data removed]",
      "text/latex": [
       "$$\\left[\\begin{matrix}-2 & 1 & -5 & -7 & -5 & 4 & -2\\\\0 & 1 & 1 & 1 & 0 & 0 & 0\\\\0 & -2 & 0 & 0 & 1 & 0 & 0\\\\-1 & -1 & 1 & 0 & 0 & 1 & 0\\\\-1 & -1 & 1 & 0 & 0 & 0 & 1\\end{matrix}\\right]$$"
      ],
      "text/plain": [
       "⎡-2  1   -5  -7  -5  4  -2⎤\n",
       "⎢                         ⎥\n",
       "⎢0   1   1   1   0   0  0 ⎥\n",
       "⎢                         ⎥\n",
       "⎢0   -2  0   0   1   0  0 ⎥\n",
       "⎢                         ⎥\n",
       "⎢-1  -1  1   0   0   1  0 ⎥\n",
       "⎢                         ⎥\n",
       "⎣-1  -1  1   0   0   0  1 ⎦"
      ]
     },
     "execution_count": 22,
     "metadata": {},
     "output_type": "execute_result"
    }
   ],
   "source": [
    "B"
   ]
  },
  {
   "cell_type": "markdown",
   "metadata": {},
   "source": [
    "### 3. 做 RREF\n",
    "\n",
    "求 $B$ 的 reduced row echelon form"
   ]
  },
  {
   "cell_type": "code",
   "execution_count": 23,
   "metadata": {},
   "outputs": [
    {
     "data": {
      "image/png": "[encoded data removed]",
      "text/latex": [
       "$$\\left ( \\left[\\begin{matrix}1 & 0 & 0 & 1 & 1 & 0 & -1\\\\0 & 1 & 0 & 0 & - \\frac{1}{2} & 0 & 0\\\\0 & 0 & 1 & 1 & \\frac{1}{2} & 0 & 0\\\\0 & 0 & 0 & 0 & 0 & 1 & -1\\\\0 & 0 & 0 & 0 & 0 & 0 & 0\\end{matrix}\\right], \\quad \\left ( 0, \\quad 1, \\quad 2, \\quad 5\\right )\\right )$$"
      ],
      "text/plain": [
       "⎛⎡1  0  0  1   1    0  -1⎤              ⎞\n",
       "⎜⎢                       ⎥              ⎟\n",
       "⎜⎢0  1  0  0  -1/2  0  0 ⎥              ⎟\n",
       "⎜⎢                       ⎥              ⎟\n",
       "⎜⎢0  0  1  1  1/2   0  0 ⎥, (0, 1, 2, 5)⎟\n",
       "⎜⎢                       ⎥              ⎟\n",
       "⎜⎢0  0  0  0   0    1  -1⎥              ⎟\n",
       "⎜⎢                       ⎥              ⎟\n",
       "⎝⎣0  0  0  0   0    0  0 ⎦              ⎠"
      ]
     },
     "execution_count": 23,
     "metadata": {},
     "output_type": "execute_result"
    }
   ],
   "source": [
    "B.rref()"
   ]
  },
  {
   "cell_type": "markdown",
   "metadata": {},
   "source": [
    "第一部份是 reduced row echelon form, 第二部份是 pivot columns 是那幾行。"
   ]
  },
  {
   "cell_type": "markdown",
   "metadata": {},
   "source": [
    "### 4. 找出我們要的向量\n",
    "\n",
    "我們已經知道要的就是 pivot columns 相對應的那幾行。"
   ]
  },
  {
   "cell_type": "code",
   "execution_count": 32,
   "metadata": {},
   "outputs": [],
   "source": [
    "r = B.rref()[1]"
   ]
  },
  {
   "cell_type": "code",
   "execution_count": 33,
   "metadata": {},
   "outputs": [
    {
     "data": {
      "image/png": "[encoded data removed]",
      "text/latex": [
       "$$\\left ( 0, \\quad 1, \\quad 2, \\quad 5\\right )$$"
      ],
      "text/plain": [
       "(0, 1, 2, 5)"
      ]
     },
     "execution_count": 33,
     "metadata": {},
     "output_type": "execute_result"
    }
   ],
   "source": [
    "r"
   ]
  },
  {
   "cell_type": "code",
   "execution_count": 39,
   "metadata": {},
   "outputs": [
    {
     "data": {
      "image/png": "[encoded data removed]",
      "text/latex": [
       "$$\\left[\\begin{matrix}-2 & 1 & -5 & 4\\\\0 & 1 & 1 & 0\\\\0 & -2 & 0 & 0\\\\-1 & -1 & 1 & 1\\\\-1 & -1 & 1 & 0\\end{matrix}\\right]$$"
      ],
      "text/plain": [
       "⎡-2  1   -5  4⎤\n",
       "⎢             ⎥\n",
       "⎢0   1   1   0⎥\n",
       "⎢             ⎥\n",
       "⎢0   -2  0   0⎥\n",
       "⎢             ⎥\n",
       "⎢-1  -1  1   1⎥\n",
       "⎢             ⎥\n",
       "⎣-1  -1  1   0⎦"
      ]
     },
     "execution_count": 39,
     "metadata": {},
     "output_type": "execute_result"
    }
   ],
   "source": [
    "B.col(r)"
   ]
  },
  {
   "cell_type": "markdown",
   "metadata": {},
   "source": [
    "當然相對來說就是原來轉置前 A 的那幾列!"
   ]
  },
  {
   "cell_type": "code",
   "execution_count": 40,
   "metadata": {},
   "outputs": [
    {
     "data": {
      "image/png": "[encoded data removed]",
      "text/latex": [
       "$$\\left[\\begin{matrix}-2 & 0 & 0 & -1 & -1\\\\1 & 1 & -2 & -1 & -1\\\\-5 & 1 & 0 & 1 & 1\\\\4 & 0 & 0 & 1 & 0\\end{matrix}\\right]$$"
      ],
      "text/plain": [
       "⎡-2  0  0   -1  -1⎤\n",
       "⎢                 ⎥\n",
       "⎢1   1  -2  -1  -1⎥\n",
       "⎢                 ⎥\n",
       "⎢-5  1  0   1   1 ⎥\n",
       "⎢                 ⎥\n",
       "⎣4   0  0   1   0 ⎦"
      ]
     },
     "execution_count": 40,
     "metadata": {},
     "output_type": "execute_result"
    }
   ],
   "source": [
    "A.row(r)"
   ]
  },
  {
   "cell_type": "markdown",
   "metadata": {},
   "source": [
    "## 複習: 多項式"
   ]
  },
  {
   "cell_type": "markdown",
   "metadata": {},
   "source": [
    "### 1. 令 Sympy 的變數"
   ]
  },
  {
   "cell_type": "markdown",
   "metadata": {},
   "source": [
    "#### (1) 標準方式"
   ]
  },
  {
   "cell_type": "code",
   "execution_count": 41,
   "metadata": {},
   "outputs": [],
   "source": [
    "x, y = sp.symbols('x,y')"
   ]
  },
  {
   "cell_type": "code",
   "execution_count": 44,
   "metadata": {},
   "outputs": [
    {
     "data": {
      "image/png": "[encoded data removed]",
      "text/latex": [
       "$$x^{2} - 3 x y^{2}$$"
      ],
      "text/plain": [
       " 2        2\n",
       "x  - 3⋅x⋅y "
      ]
     },
     "execution_count": 44,
     "metadata": {},
     "output_type": "execute_result"
    }
   ],
   "source": [
    "x**2 - 3*x*y**2"
   ]
  },
  {
   "cell_type": "markdown",
   "metadata": {},
   "source": [
    "#### (2) 神秘 abc 套件"
   ]
  },
  {
   "cell_type": "code",
   "execution_count": 45,
   "metadata": {},
   "outputs": [],
   "source": [
    "from sympy.abc import x, y"
   ]
  },
  {
   "cell_type": "markdown",
   "metadata": {},
   "source": [
    "還有很炫的..."
   ]
  },
  {
   "cell_type": "code",
   "execution_count": 50,
   "metadata": {},
   "outputs": [],
   "source": [
    "from sympy.abc import alpha"
   ]
  },
  {
   "cell_type": "code",
   "execution_count": 51,
   "metadata": {},
   "outputs": [
    {
     "data": {
      "image/png": "[encoded data removed]",
      "text/latex": [
       "$$3 \\alpha$$"
      ],
      "text/plain": [
       "3⋅α"
      ]
     },
     "execution_count": 51,
     "metadata": {},
     "output_type": "execute_result"
    }
   ],
   "source": [
    "alpha*3"
   ]
  },
  {
   "cell_type": "markdown",
   "metadata": {},
   "source": [
    "### 2. 多項式\n",
    "\n",
    "真的也沒什麼, 和我們想的一樣。"
   ]
  },
  {
   "cell_type": "code",
   "execution_count": 52,
   "metadata": {},
   "outputs": [],
   "source": [
    "f = 3*x**2 - 2*x + 8"
   ]
  },
  {
   "cell_type": "code",
   "execution_count": 53,
   "metadata": {},
   "outputs": [
    {
     "data": {
      "image/png": "[encoded data removed]",
      "text/latex": [
       "$$3 x^{2} - 2 x + 8$$"
      ],
      "text/plain": [
       "   2          \n",
       "3⋅x  - 2⋅x + 8"
      ]
     },
     "execution_count": 53,
     "metadata": {},
     "output_type": "execute_result"
    }
   ],
   "source": [
    "f"
   ]
  },
  {
   "cell_type": "code",
   "execution_count": 54,
   "metadata": {},
   "outputs": [
    {
     "data": {
      "image/png": "[encoded data removed]",
      "text/latex": [
       "$$6 x - 2$$"
      ],
      "text/plain": [
       "6⋅x - 2"
      ]
     },
     "execution_count": 54,
     "metadata": {},
     "output_type": "execute_result"
    }
   ],
   "source": [
    "sp.diff(f,x)"
   ]
  },
  {
   "cell_type": "code",
   "execution_count": 58,
   "metadata": {},
   "outputs": [
    {
     "data": {
      "image/png": "[encoded data removed]",
      "text/latex": [
       "$$x^{3} - x^{2} + 8 x$$"
      ],
      "text/plain": [
       " 3    2      \n",
       "x  - x  + 8⋅x"
      ]
     },
     "execution_count": 58,
     "metadata": {},
     "output_type": "execute_result"
    }
   ],
   "source": [
    "sp.integrate(f,x)"
   ]
  },
  {
   "cell_type": "markdown",
   "metadata": {},
   "source": [
    "#### 變成「真的」多項式\n",
    "\n",
    "就如同陣列「不知道」自己是矩陣, $f$ 也沒意識到它是多項式。所以有些多項式的功能是沒有的。"
   ]
  },
  {
   "cell_type": "code",
   "execution_count": 56,
   "metadata": {},
   "outputs": [],
   "source": [
    "g = sp.poly(f)"
   ]
  },
  {
   "cell_type": "code",
   "execution_count": 57,
   "metadata": {},
   "outputs": [
    {
     "data": {
      "image/png": "[encoded data removed]",
      "text/latex": [
       "$$\\left [ 3, \\quad -2, \\quad 8\\right ]$$"
      ],
      "text/plain": [
       "[3, -2, 8]"
      ]
     },
     "execution_count": 57,
     "metadata": {},
     "output_type": "execute_result"
    }
   ],
   "source": [
    "g.coeffs()"
   ]
  },
  {
   "cell_type": "markdown",
   "metadata": {},
   "source": [
    "### 3. 挑戰\n",
    "\n",
    "我們當然不是沒頭沒腦複習多項式, 而是希望你也可以在多項式形式的向量空間找基底。比如說, 擴充\n",
    "\n",
    "$$S = \\{1+x+x^2+x^3, 1-3x^2\\}$$\n",
    "\n",
    "成一個 $P_3(\\mathbb{R})$ 的基底。"
   ]
  }
 ],
 "metadata": {
  "kernelspec": {
   "display_name": "Python [default]",
   "language": "python",
   "name": "python3"
  },
  "language_info": {
   "codemirror_mode": {
    "name": "ipython",
    "version": 3
   },
   "file_extension": ".py",
   "mimetype": "text/x-python",
   "name": "python",
   "nbconvert_exporter": "python",
   "pygments_lexer": "ipython3",
   "version": "3.6.3"
  }
 },
 "nbformat": 4,
 "nbformat_minor": 2
}
